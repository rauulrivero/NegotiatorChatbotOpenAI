{
 "cells": [
  {
   "cell_type": "code",
   "execution_count": 14,
   "metadata": {},
   "outputs": [],
   "source": [
    "from openai import OpenAI\n",
    "import json\n",
    "import os\n",
    "from dotenv import load_dotenv\n",
    "\n",
    "load_dotenv()\n",
    "\n",
    "# Configure the OpenAI API key\n",
    "client = OpenAI(\n",
    "    api_key=os.getenv\n",
    "    (\"OPENAI_API_KEY\"),\n",
    ")\n",
    "\n",
    "GPT_MODEL = \"gpt-3.5-turbo-1106\""
   ]
  },
  {
   "cell_type": "markdown",
   "metadata": {},
   "source": [
    "### Creamos la base de datos postgres con el uso de SQLAlchemy"
   ]
  },
  {
   "cell_type": "code",
   "execution_count": 17,
   "metadata": {},
   "outputs": [],
   "source": [
    "postgres = {\n",
    "    'usuario': os.getenv(\"POSTGRES_USER\"),\n",
    "    'contraseña': os.getenv(\"POSTGRES_PASSWORD\"),\n",
    "    'host': os.getenv(\"POSTGRES_HOST\"),\n",
    "    'puerto': os.getenv(\"POSTGRES_PORT\"),\n",
    "    'nombre_basedatos': os.getenv(\"POSTGRES_DB\")\n",
    "}"
   ]
  },
  {
   "cell_type": "code",
   "execution_count": 20,
   "metadata": {},
   "outputs": [],
   "source": [
    "from sqlalchemy import create_engine, Column, Integer, String, ForeignKey\n",
    "from sqlalchemy.orm import relationship, sessionmaker, declarative_base\n",
    "from sqlalchemy import Float\n",
    "import psycopg2\n",
    "\n",
    "def conectar_db(usuario, contraseña, host, puerto, nombre_basedatos):\n",
    "    cadena_conexion = f\"postgresql://{usuario}:{contraseña}@{host}:{puerto}/{nombre_basedatos}\"\n",
    "    engine = create_engine(cadena_conexion, echo=True)\n",
    "    return engine\n",
    "\n",
    "# Conectar a la base de datos\n",
    "engine = conectar_db(**postgres)"
   ]
  },
  {
   "cell_type": "code",
   "execution_count": 21,
   "metadata": {},
   "outputs": [
    {
     "name": "stdout",
     "output_type": "stream",
     "text": [
      "2024-02-28 13:55:24,913 INFO sqlalchemy.engine.Engine select pg_catalog.version()\n",
      "2024-02-28 13:55:24,915 INFO sqlalchemy.engine.Engine [raw sql] {}\n",
      "2024-02-28 13:55:24,916 INFO sqlalchemy.engine.Engine select current_schema()\n",
      "2024-02-28 13:55:24,917 INFO sqlalchemy.engine.Engine [raw sql] {}\n",
      "2024-02-28 13:55:24,919 INFO sqlalchemy.engine.Engine show standard_conforming_strings\n",
      "2024-02-28 13:55:24,920 INFO sqlalchemy.engine.Engine [raw sql] {}\n",
      "2024-02-28 13:55:24,921 INFO sqlalchemy.engine.Engine BEGIN (implicit)\n",
      "2024-02-28 13:55:24,924 INFO sqlalchemy.engine.Engine SELECT pg_catalog.pg_class.relname \n",
      "FROM pg_catalog.pg_class JOIN pg_catalog.pg_namespace ON pg_catalog.pg_namespace.oid = pg_catalog.pg_class.relnamespace \n",
      "WHERE pg_catalog.pg_class.relname = %(table_name)s AND pg_catalog.pg_class.relkind = ANY (ARRAY[%(param_1)s, %(param_2)s, %(param_3)s, %(param_4)s, %(param_5)s]) AND pg_catalog.pg_table_is_visible(pg_catalog.pg_class.oid) AND pg_catalog.pg_namespace.nspname != %(nspname_1)s\n",
      "2024-02-28 13:55:24,925 INFO sqlalchemy.engine.Engine [generated in 0.00072s] {'table_name': 'users', 'param_1': 'r', 'param_2': 'p', 'param_3': 'f', 'param_4': 'v', 'param_5': 'm', 'nspname_1': 'pg_catalog'}\n",
      "2024-02-28 13:55:24,928 INFO sqlalchemy.engine.Engine SELECT pg_catalog.pg_class.relname \n",
      "FROM pg_catalog.pg_class JOIN pg_catalog.pg_namespace ON pg_catalog.pg_namespace.oid = pg_catalog.pg_class.relnamespace \n",
      "WHERE pg_catalog.pg_class.relname = %(table_name)s AND pg_catalog.pg_class.relkind = ANY (ARRAY[%(param_1)s, %(param_2)s, %(param_3)s, %(param_4)s, %(param_5)s]) AND pg_catalog.pg_table_is_visible(pg_catalog.pg_class.oid) AND pg_catalog.pg_namespace.nspname != %(nspname_1)s\n",
      "2024-02-28 13:55:24,929 INFO sqlalchemy.engine.Engine [cached since 0.004957s ago] {'table_name': 'debts', 'param_1': 'r', 'param_2': 'p', 'param_3': 'f', 'param_4': 'v', 'param_5': 'm', 'nspname_1': 'pg_catalog'}\n",
      "2024-02-28 13:55:24,930 INFO sqlalchemy.engine.Engine COMMIT\n"
     ]
    }
   ],
   "source": [
    "# Creamos las tablas\n",
    "Base = declarative_base()\n",
    "\n",
    "class User(Base):\n",
    "    __tablename__ = 'users'\n",
    "\n",
    "    email = Column(String, primary_key=True)\n",
    "    name = Column(String)\n",
    "    surname = Column(String)\n",
    "    telephone = Column(String, unique=True)\n",
    "\n",
    "    debts = relationship(\"Debt\", back_populates=\"user\")\n",
    "\n",
    "class Debt(Base):\n",
    "    __tablename__ = 'debts'\n",
    "\n",
    "    id = Column(Integer, primary_key=True)\n",
    "    total_debt = Column(Integer)\n",
    "    maximum_period_months = Column(Integer)\n",
    "    minimum_accepted_payment = Column(Float)\n",
    "    user_email = Column(String, ForeignKey('users.email'))\n",
    "\n",
    "    user = relationship(\"User\", back_populates=\"debts\")\n",
    "\n",
    "    @classmethod\n",
    "    def calculate_minimum_accepted_payment(cls, total_debt, maximum_period_months):\n",
    "        return round(total_debt / maximum_period_months, 2)\n",
    "\n",
    "Base.metadata.create_all(engine)\n"
   ]
  },
  {
   "cell_type": "code",
   "execution_count": 22,
   "metadata": {},
   "outputs": [],
   "source": [
    "def crear_sesion(engine):\n",
    "    Session = sessionmaker(bind=engine)\n",
    "    session = Session()\n",
    "    return session\n",
    "\n",
    "session = crear_sesion(engine)"
   ]
  },
  {
   "cell_type": "markdown",
   "metadata": {},
   "source": [
    "### Especificamos funciones para trabajar con las tablas con más comodidad"
   ]
  },
  {
   "cell_type": "code",
   "execution_count": 23,
   "metadata": {},
   "outputs": [],
   "source": [
    "from sqlalchemy.exc import IntegrityError\n",
    "\n",
    "def create_user(name, surname, email, telephone):\n",
    "    try:\n",
    "        user = User(name=name, surname=surname, email=email, telephone=telephone)\n",
    "        session.add(user)\n",
    "        session.commit()\n",
    "        return user\n",
    "    except IntegrityError:\n",
    "        session.rollback()\n",
    "        print(\"Error: El teléfono o el correo electrónico ya están en uso.\")\n",
    "        return None\n",
    "\n",
    "def create_debt(total_debt, maximum_period_months, user_email):\n",
    "    try:\n",
    "        debt = Debt(total_debt=total_debt, maximum_period_months=maximum_period_months, minimum_accepted_payment=Debt.calculate_minimum_accepted_payment(total_debt, maximum_period_months) ,user_email=user_email)\n",
    "        session.add(debt)\n",
    "        session.commit()\n",
    "        return debt\n",
    "    except IntegrityError:\n",
    "        session.rollback()\n",
    "        print(\"Error: El usuario no existe.\")\n",
    "        return None\n",
    "\n",
    "# get all debts\n",
    "def get_all_debts():\n",
    "    return session.query(Debt).all()\n",
    "\n",
    "# get all debts by user\n",
    "def get_all_debts_by_user(user_email):\n",
    "    return session.query(Debt).filter(Debt.user_email == user_email).all()\n",
    "\n",
    "# get all users\n",
    "def get_all_users():\n",
    "    return session.query(User).all()\n",
    "\n",
    "# get user by email\n",
    "def get_user_by_email(email):\n",
    "    return session.query(User).filter(User.email == email).first()\n",
    "    \n",
    "# delete user by email\n",
    "def delete_user_by_email(email):\n",
    "    user = get_user_by_email(email)\n",
    "    session.delete(user)\n",
    "    session.commit()\n",
    "\n",
    "# update user by email\n",
    "def update_user_by_email(email, name, surname, telephone):\n",
    "    user = get_user_by_email(email)\n",
    "    user.name = name\n",
    "    user.surname = surname\n",
    "    user.telephone = telephone\n",
    "    session.commit()\n",
    "\n",
    "    # get debts by user email\n",
    "def get_debts_by_user_email(email):\n",
    "    return session.query(Debt).filter(Debt.user_email == email).all()\n",
    "\n",
    "# get user by email\n",
    "def get_user_by_email(email):\n",
    "    return session.query(User).filter(User.email == email).first()\n",
    "\n",
    "# get debt by total debt\n",
    "def get_debt_by_total_debt(total_debt):\n",
    "    return session.query(Debt).filter(Debt.total_debt == total_debt).first()"
   ]
  },
  {
   "cell_type": "code",
   "execution_count": 24,
   "metadata": {},
   "outputs": [
    {
     "name": "stdout",
     "output_type": "stream",
     "text": [
      "2024-02-28 13:55:34,127 INFO sqlalchemy.engine.Engine BEGIN (implicit)\n",
      "2024-02-28 13:55:34,129 INFO sqlalchemy.engine.Engine INSERT INTO users (email, name, surname, telephone) VALUES (%(email)s, %(name)s, %(surname)s, %(telephone)s)\n",
      "2024-02-28 13:55:34,130 INFO sqlalchemy.engine.Engine [generated in 0.00091s] {'email': 'helloworld@singularfactory.es', 'name': 'John', 'surname': 'Doe', 'telephone': '123456789'}\n",
      "2024-02-28 13:55:34,134 INFO sqlalchemy.engine.Engine ROLLBACK\n",
      "Error: El teléfono o el correo electrónico ya están en uso.\n"
     ]
    }
   ],
   "source": [
    "# Crear un nuevo usuario\n",
    "create_user(\n",
    "    email=\"helloworld@singularfactory.es\",\n",
    "    name=\"John\",\n",
    "    surname=\"Doe\",\n",
    "    telephone=\"123456789\"\n",
    ")\n"
   ]
  },
  {
   "cell_type": "code",
   "execution_count": 25,
   "metadata": {},
   "outputs": [
    {
     "name": "stdout",
     "output_type": "stream",
     "text": [
      "2024-02-28 13:55:35,637 INFO sqlalchemy.engine.Engine BEGIN (implicit)\n",
      "2024-02-28 13:55:35,639 INFO sqlalchemy.engine.Engine INSERT INTO debts (total_debt, maximum_period_months, minimum_accepted_payment, user_email) VALUES (%(total_debt)s, %(maximum_period_months)s, %(minimum_accepted_payment)s, %(user_email)s) RETURNING debts.id\n",
      "2024-02-28 13:55:35,639 INFO sqlalchemy.engine.Engine [generated in 0.00075s] {'total_debt': 1000, 'maximum_period_months': 12, 'minimum_accepted_payment': 83.33, 'user_email': 'helloworld@singularfactory.es'}\n",
      "2024-02-28 13:55:35,642 INFO sqlalchemy.engine.Engine COMMIT\n"
     ]
    },
    {
     "data": {
      "text/plain": [
       "<__main__.Debt at 0x127a4e06200>"
      ]
     },
     "execution_count": 25,
     "metadata": {},
     "output_type": "execute_result"
    }
   ],
   "source": [
    "# Crear una nueva deuda aleatoria\n",
    "create_debt(\n",
    "    total_debt=1000,\n",
    "    maximum_period_months=12,\n",
    "    user_email=\"helloworld@singularfactory.es\"\n",
    ")"
   ]
  },
  {
   "cell_type": "markdown",
   "metadata": {},
   "source": [
    "### Especificamos las funciones que va a utilizar el modelo de OpenAI"
   ]
  },
  {
   "cell_type": "code",
   "execution_count": 26,
   "metadata": {},
   "outputs": [],
   "source": [
    "function_descriptions = [\n",
    "    {\n",
    "        \"name\": \"calculate_payment_plan\",\n",
    "        \"description\": \"Calcula un plan de pago para saldar una deuda dentro de un plazo específico para un usuario dado, considerando la cantidad total de deuda propuesta.\",\n",
    "        \"parameters\": {\n",
    "            \"type\": \"object\",\n",
    "            \"properties\": {\n",
    "                \"email\": {\n",
    "                    \"type\": \"string\",\n",
    "                    \"description\": \"El correo electrónico del usuario para el cual se realizará el cálculo de la deuda.\"\n",
    "                },\n",
    "                \"maximum_period_months\": {\n",
    "                    \"type\": \"number\",\n",
    "                    \"description\": \"El número máximo de meses permitidos para saldar la deuda.\"\n",
    "                },\n",
    "                \"proposed_total_debt\": {\n",
    "                    \"type\": \"number\",\n",
    "                    \"description\": \"La cantidad total de deuda propuesta por el deudor.\"\n",
    "                },\n",
    "                \"proposed_monthly_payment\": {\n",
    "                    \"type\": \"number\",\n",
    "                    \"description\": \"La cantidad que el deudor propone pagar cada mes.\"\n",
    "                }\n",
    "            },\n",
    "            \"required\": [\"email\", \"maximum_period_months\", \"proposed_total_debt\", \"proposed_monthly_payment\"]\n",
    "        }\n",
    "    }\n",
    "]\n"
   ]
  },
  {
   "cell_type": "code",
   "execution_count": 27,
   "metadata": {},
   "outputs": [],
   "source": [
    "def calculate_payment_plan(email, maximum_period_months, proposed_total_debt, proposed_monthly_payment):\n",
    "    debts = get_debts_by_user_email(email)\n",
    "    if debts is None:\n",
    "        return json.dumps({\"error\": \"Este usuario no tiene deudas\"})\n",
    "    \n",
    "    debt = get_debt_by_total_debt(proposed_total_debt)\n",
    "    if debt is None:\n",
    "        return json.dumps({\"error\": \"No tiene ninguna deuda con esa cantidad total de deuda.\"})\n",
    "    \n",
    "    total_debt = debt.total_debt\n",
    "    minimum_accepted_payment = debt.minimum_accepted_payment\n",
    "    maximum_period_months = debt.maximum_period_months\n",
    "    \n",
    "    if proposed_monthly_payment < minimum_accepted_payment:\n",
    "        return json.dumps({\n",
    "            \"error\": f\"El pago propuesto es inferior al minimo aceptable. No se puede calcular un plan de pago. El pago mínimo aceptado es de ${minimum_accepted_payment}.\"\n",
    "        })\n",
    "    \n",
    "    remaining_debt = total_debt\n",
    "    months = 0\n",
    "   \n",
    "    while remaining_debt >= proposed_monthly_payment and months < maximum_period_months:\n",
    "        months += 1\n",
    "        remaining_debt -= proposed_monthly_payment\n",
    "\n",
    "    if remaining_debt <= 0:\n",
    "        return json.dumps({\n",
    "            \"message\": f\"Si pagas ${proposed_monthly_payment} cada mes, cubririas la deuda de ${total_debt} en {months} meses.\"\n",
    "        })\n",
    "    else:\n",
    "        months += 1\n",
    "        last_payment = remaining_debt\n",
    "        return json.dumps({\n",
    "            \"message\": f\"Si pagas ${proposed_monthly_payment} cada mes, cubririas la mayor parte de la deuda de ${total_debt} en {months - 1} meses. En el mes {months}, te quedaria un pago final de ${last_payment} para saldar completamente la deuda.\"\n",
    "        })"
   ]
  },
  {
   "cell_type": "markdown",
   "metadata": {},
   "source": [
    "### Funciones con la que detecta la función que debe utilizar y se interactúa con el usuario dependiendo de su respuesta"
   ]
  },
  {
   "cell_type": "code",
   "execution_count": 28,
   "metadata": {},
   "outputs": [],
   "source": [
    "def detect_function(prompt):\n",
    "    \"\"\"Give LLM a given prompt and get an answer.\"\"\"\n",
    "\n",
    "    completion = client.chat.completions.create(\n",
    "        model=GPT_MODEL,\n",
    "        messages=[{\"role\": \"user\", \"content\": prompt}],\n",
    "\n",
    "        functions=function_descriptions,\n",
    "        function_call=\"auto\",  # specify the function call\n",
    "    )\n",
    "\n",
    "    output = completion.choices[0].message\n",
    "    return output\n",
    "\n",
    "def function_calling(prompt, function, content):\n",
    "    \"\"\"Give LLM a given prompt and get an answer.\"\"\"\n",
    "\n",
    "    completion = client.chat.completions.create(\n",
    "        model=GPT_MODEL,\n",
    "        messages=[{\"role\": \"user\", \"content\": prompt},\n",
    "                  {\"role\":\"function\", \"name\": function, \"content\": content}],\n",
    "\n",
    "        functions=function_descriptions,\n",
    "        function_call=\"auto\",  # specify the function call\n",
    "    )\n",
    "\n",
    "    output = completion.choices[0].message\n",
    "    return output\n"
   ]
  },
  {
   "cell_type": "markdown",
   "metadata": {},
   "source": [
    "### Ejemplo de prompt"
   ]
  },
  {
   "cell_type": "code",
   "execution_count": null,
   "metadata": {},
   "outputs": [],
   "source": [
    "user_prompt = \"\"\"I am a debtor who owes $1200 and wants to pay it off in 12 months. They're suggesting a monthly payment of $130.\n",
    " Can you check if this payment plan is feasible or tell me the minimum amount they need to pay each month to meet the 12-month deadline?. My email is helloworld@singularfactory.es\"\"\"\n",
    "\n",
    "output = detect_function(user_prompt)\n",
    "print(output)\n",
    "\n",
    "chosen_function = eval(output.function_call.name)\n",
    "\n",
    "params = json.loads(output.function_call.arguments)\n",
    "booking = chosen_function(**params)\n",
    "print(booking)\n",
    "\n",
    "\n",
    "output = function_calling(user_prompt, output.function_call.name, booking)\n",
    "print(\"RESPUESTA IA: \" + output.content)"
   ]
  },
  {
   "cell_type": "code",
   "execution_count": 30,
   "metadata": {},
   "outputs": [
    {
     "name": "stderr",
     "output_type": "stream",
     "text": [
      "2024-02-28 14:03:38.225 \n",
      "  \u001b[33m\u001b[1mWarning:\u001b[0m to view this Streamlit app on a browser, run it with the following\n",
      "  command:\n",
      "\n",
      "    streamlit run c:\\Users\\rauul\\Desktop\\GCID 3º\\2º Cuatri\\Prácticas Externas\\openai\\payment_plan_streamlit-RaulRivero\\.venv\\lib\\site-packages\\ipykernel_launcher.py [ARGUMENTS]\n"
     ]
    }
   ],
   "source": [
    "import streamlit as st\n",
    "\n",
    "# Configurar la interfaz web con Streamlit\n",
    "def main():\n",
    "    st.title(\"Calculadora de Pagos\")\n",
    "\n",
    "    # Entrada del usuario: prompt\n",
    "    user_prompt = st.text_area(\"Introduce tu consulta aquí:\", \"\"\"\n",
    "    Soy un deudor que debe $1200 y quiere pagarlo en 12 meses. Estoy sugiriendo un pago mensual de $130.\n",
    "    ¿Puedes verificar si este plan de pago es factible o decirme la cantidad mínima que necesitan pagar cada mes para cumplir con el plazo de 12 meses? \n",
    "    Mi correo electrónico es helloworld@singularfactory.es.\n",
    "    \"\"\")\n",
    "\n",
    "    # Botón para ejecutar la consulta\n",
    "    if st.button(\"Enviar\"):\n",
    "        # Detectar la función que debe llamar el modelo\n",
    "        output = detect_function(user_prompt)\n",
    "        chosen_function = eval(output.function_call.name)\n",
    "        \n",
    "        # Llamar a la función detectada y obtener la respuesta\n",
    "        params = json.loads(output.function_call.arguments)\n",
    "        booking = chosen_function(**params)\n",
    "        \n",
    "        # Interactuar con el modelo utilizando la función detectada\n",
    "        output = function_calling(user_prompt, output.function_call.name, booking.content)\n",
    "        \n",
    "        # Mostrar la respuesta del modelo\n",
    "        st.write(\"RESPUESTA IA:\", output.content)\n",
    "\n",
    "if __name__ == \"__main__\":\n",
    "    main()"
   ]
  }
 ],
 "metadata": {
  "kernelspec": {
   "display_name": "Python 3",
   "language": "python",
   "name": "python3"
  },
  "language_info": {
   "codemirror_mode": {
    "name": "ipython",
    "version": 3
   },
   "file_extension": ".py",
   "mimetype": "text/x-python",
   "name": "python",
   "nbconvert_exporter": "python",
   "pygments_lexer": "ipython3",
   "version": "3.10.11"
  }
 },
 "nbformat": 4,
 "nbformat_minor": 2
}
