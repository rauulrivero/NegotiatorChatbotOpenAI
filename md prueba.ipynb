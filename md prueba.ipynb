{
 "cells": [
  {
   "cell_type": "markdown",
   "metadata": {},
   "source": [
    "# Chatbot Asistente Financiero y Gestor de Archivos\n",
    "\n",
    "Este proyecto implementa un sofisticado chatbot diseñado para ofrecer asistencia personalizada en la gestión de deudas y la recuperación de documentos, utilizando la API de Assistant de OpenAI. A través de una combinación eficaz entre tecnologías de punta y una interfaz de usuario intuitiva, el chatbot busca transformar la manera en que los usuarios manejan sus compromisos financieros y acceden a información clave almacenada.\n",
    "\n",
    "## Tecnología y Estructura\n",
    "El backend del sistema se desarrolla en Flask, un framework de Python altamente flexible y eficiente para aplicaciones web, apoyado por una base de datos SQLAlchemy. Esta estructura asegura un manejo robusto y seguro de la información de los usuarios.\n",
    "\n",
    "En el frontend, se utiliza Streamlit para crear una aplicación interactiva que comunica directamente con el backend a través de rutas Flask. Este enfoque permite una experiencia de usuario fluida y enfocada en la facilidad de uso y accesibilidad.\n",
    "\n"
   ]
  },
  {
   "cell_type": "markdown",
   "metadata": {},
   "source": [
    "## Instalación\n",
    "\n",
    "Para ejecutar este proyecto, debes tener instalado Python 3.6 o superior en tu máquina. Asegúrate de tener también pip para la gestión de las librerías. Sigue los pasos a continuación para configurar el ambiente y comenzar a utilizar el chatbot.\n",
    "\n",
    "### Pre-requisitos\n",
    "\n",
    "Antes de instalar las librerías necesarias, verifica que tengas una versión compatible de Python ejecutando:\n",
    "\n",
    "```bash\n",
    "python --version\n",
    "```\n",
    "\n",
    "O si tienes instalaciones concurrentes de Python 2 y Python 3, es posible que necesites usar:\n",
    "\n",
    "```bash\n",
    "python3 --version\n",
    "```\n",
    "\n",
    "## Instalación de librerías\n",
    "Una vez confirmado el entorno de Python, instala las siguientes librerías requeridas para el funcionamiento del proyecto:\n",
    "\n",
    "```bash\n",
    "pip install Flask Flask-SQLAlchemy openai streamlit requests SQLAlchemy python-dotenv\n",
    "```\n",
    "\n",
    "Nota: Si estás usando un ambiente virtual (lo cual es recomendado), asegúrate de activarlo antes de ejecutar el comando anterior.\n",
    "\n",
    "## Configuración de variables de entorno\n",
    "Este proyecto utiliza variables de entorno para manejar configuraciones sensibles. Crea un archivo .env en la raíz del proyecto y añade las siguientes variables:\n",
    "\n",
    "OPENAI_API_KEY=tu_llave_de_api_aquí\n",
    "SQLALCHEMY_DATABASE_URI=la_uri_de_tu_sql_alchemy_aquí\n",
    "FLASK_ENV=development # o production o test\n",
    "\n",
    "Reemplaza tu_llave_de_api_aquí con tu verdadera API key de OpenAI.\n",
    "\n",
    "## Ejecución\n",
    "Una vez instaladas las dependencias y configuradas las variables de entorno, puedes iniciar el backend y el frontend en dos terminales por separado:\n",
    "\n",
    "Para el backend con Flask:\n",
    "\n",
    "python backend/app.py \n",
    "\n",
    "Para el frontend con Streamlit:\n",
    "\n",
    "streamlit run frontend/streamlit_app.py\n",
    "\n",
    "Ahora, la aplicación debería estar corriendo en tu máquina local, y puedes interactuar con el chatbot asistente financiero y gestor de archivos desde la interfaz de usuario de Streamlit.\n",
    "\n",
    "Este apartado proporciona a los usuarios instrucciones claras sobre cómo preparar su entorno para ejecutar tu proyecto, desde la instalación de librerías necesarias hasta la configuración de variables de entorno y la ejecución de la aplicación. Asegúrate de personalizar nombres de archivos y rutas según corresponda a tu estructura de proyecto específica.\n",
    "\n"
   ]
  }
 ],
 "metadata": {
  "language_info": {
   "name": "python"
  }
 },
 "nbformat": 4,
 "nbformat_minor": 2
}
